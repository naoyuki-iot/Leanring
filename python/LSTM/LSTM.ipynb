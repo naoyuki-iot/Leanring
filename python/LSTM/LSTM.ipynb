{
  "nbformat": 4,
  "nbformat_minor": 0,
  "metadata": {
    "colab": {
      "name": "LSTM.ipynb",
      "provenance": [],
      "collapsed_sections": []
    },
    "kernelspec": {
      "name": "python_defaultSpec_1598011066337",
      "display_name": "Python 3.8.3 64-bit ('base': conda)"
    }
  },
  "cells": [
    {
      "cell_type": "code",
      "metadata": {
        "id": "3s6Si5trvvqO",
        "colab_type": "code",
        "colab": {}
      },
      "source": [
        "%matplotlib inline\n",
        "import keras\n",
        "import matplotlib.pyplot as plt\n",
        "import pandas as pd \n",
        "import numpy as np \n",
        "from sklearn.preprocessing import StandardScaler"
      ],
      "execution_count": null,
      "outputs": []
    },
    {
      "cell_type": "code",
      "metadata": {
        "id": "MvgXVZ9jv0zc",
        "colab_type": "code",
        "colab": {
          "base_uri": "https://localhost:8080/",
          "height": 34
        },
        "outputId": "fd454175-3b53-41dc-9eee-768716f9860b"
      },
      "source": [
        "df = pd.read_csv('test.txt', header=None, delimiter='\\t')\n",
        "\n",
        "print(df.shape)"
      ],
      "execution_count": null,
      "outputs": []
    },
    {
      "cell_type": "code",
      "metadata": {
        "id": "B_3L0v9ywOOU",
        "colab_type": "code",
        "colab": {
          "base_uri": "https://localhost:8080/",
          "height": 34
        },
        "outputId": "3b48ec95-fd14-4f92-c3d3-564ed480694c"
      },
      "source": [
        "ecg = df.iloc[:,2].values\n",
        "ecg = ecg.reshape(len(ecg), -1)\n",
        "print(\"length of ECG data:\", len(ecg))"
      ],
      "execution_count": null,
      "outputs": []
    },
    {
      "cell_type": "code",
      "metadata": {
        "id": "rsuVX7DcwVde",
        "colab_type": "code",
        "colab": {}
      },
      "source": [
        "scaler = StandardScaler()\n",
        "std_ecg = scaler.fit_transform(ecg)"
      ],
      "execution_count": null,
      "outputs": []
    },
    {
      "cell_type": "code",
      "metadata": {
        "id": "RhQXze5SwXCq",
        "colab_type": "code",
        "colab": {
          "base_uri": "https://localhost:8080/",
          "height": 346
        },
        "outputId": "21a527ba-076e-4bc1-a87e-b16c9bbc38bf"
      },
      "source": [
        "plt.figure()\n",
        "\n",
        "plt.style.use('ggplot')\n",
        "plt.figure(figsize=(15,5))\n",
        "plt.xlabel('time')\n",
        "plt.ylabel('ECG\\'s value')\n",
        "plt.plot(np.arange(45000), ecg[:45000], color='b')\n",
        "plt.legend()\n",
        "\n",
        "plt.show()"
      ],
      "execution_count": null,
      "outputs": []
    },
    {
      "cell_type": "code",
      "metadata": {
        "id": "uFiya3_VwYhA",
        "colab_type": "code",
        "colab": {
          "base_uri": "https://localhost:8080/",
          "height": 346
        },
        "outputId": "009b9af7-550b-40b0-b18b-d276b0eedc99"
      },
      "source": [
        "plt.figure()\n",
        "\n",
        "plt.style.use('ggplot')\n",
        "plt.figure(figsize=(15,5))\n",
        "plt.xlabel('time')\n",
        "plt.ylabel('ECG\\'s value')\n",
        "plt.plot(np.arange(5000), std_ecg[:5000], color='b')\n",
        "plt.ylim(-3, 3)\n",
        "x = np.arange(4200,4400)\n",
        "y1 = [-3]*len(x)\n",
        "y2 = [3]*len(x)\n",
        "plt.fill_between(x, y1, y2, facecolor='g', alpha=.3)\n",
        "plt.legend()\n",
        "\n",
        "plt.show()"
      ],
      "execution_count": null,
      "outputs": []
    },
    {
      "cell_type": "code",
      "metadata": {
        "id": "zJzXy_dKwaGd",
        "colab_type": "code",
        "colab": {}
      },
      "source": [
        "normal_cycle = std_ecg[5000:]"
      ],
      "execution_count": null,
      "outputs": []
    },
    {
      "cell_type": "code",
      "metadata": {
        "id": "Phchvq8pwcJP",
        "colab_type": "code",
        "colab": {}
      },
      "source": [
        "def generator(data, lookback, delay, pred_length, min_index, max_index, shuffle=False,\n",
        "              batch_size=100, step=1):\n",
        "    if max_index is None:\n",
        "        max_index = len(data) - delay - pred_length - 1 \n",
        "    i = min_index + lookback \n",
        "\n",
        "    while 1:\n",
        "        if shuffle:\n",
        "            rows = np.random.randint(min_index + lookback, max_index, \n",
        "                                    size=batch_size)\n",
        "        else:\n",
        "            if i + batch_size >= max_index:\n",
        "                i = min_index + lookback\n",
        "            rows = np.arange(i, min(i + batch_size, max_index))\n",
        "            i += len(rows)\n",
        "\n",
        "        samples = np.zeros((len(rows),\n",
        "                               lookback//step,\n",
        "                               data.shape[-1]))\n",
        "\n",
        "        targets = np.zeros((len(rows), pred_length))\n",
        "\n",
        "        for j, row in enumerate(rows):\n",
        "            indices = range(rows[j] - lookback, rows[j], step)\n",
        "            samples[j] = data[indices]\n",
        "            targets[j] = data[rows[j] + delay : rows[j] + delay + pred_length].flatten()\n",
        "\n",
        "        yield samples, targets"
      ],
      "execution_count": null,
      "outputs": []
    },
    {
      "cell_type": "code",
      "metadata": {
        "id": "HG5tKPYCwfqE",
        "colab_type": "code",
        "colab": {}
      },
      "source": [
        "lookback = 10\n",
        "pred_length = 3\n",
        "step = 1\n",
        "delay = 1\n",
        "batch_size = 100\n",
        "\n",
        "# 訓練ジェネレータ\n",
        "train_gen = generator(normal_cycle, \n",
        "                     lookback=lookback,\n",
        "                     pred_length=pred_length,\n",
        "                     delay=delay,\n",
        "                     min_index=0,\n",
        "                     max_index=20000,\n",
        "                     shuffle=True,\n",
        "                     step=step,\n",
        "                     batch_size=batch_size)\n",
        "\n",
        "val_gen = generator(normal_cycle, \n",
        "                   lookback=lookback,\n",
        "                   pred_length=pred_length,\n",
        "                   delay=delay,\n",
        "                   min_index=20001,\n",
        "                   max_index=30000,\n",
        "                   step=step,\n",
        "                   batch_size=batch_size)\n",
        "\n",
        "\n",
        "# 検証データセット全体を調べるためにval_genから抽出する時間刻みの数\n",
        "val_steps = (30001 - 20001 -lookback) // batch_size\n",
        "\n",
        "# その他は、テストデータ"
      ],
      "execution_count": null,
      "outputs": []
    },
    {
      "cell_type": "code",
      "metadata": {
        "id": "CcCBA43owhpJ",
        "colab_type": "code",
        "colab": {
          "base_uri": "https://localhost:8080/",
          "height": 1000
        },
        "outputId": "5781474e-1252-4309-fa42-a2eefcff8305"
      },
      "source": [
        "import keras\n",
        "from keras.models import Sequential\n",
        "from keras import layers\n",
        "from keras.optimizers import RMSprop\n",
        "\n",
        "model = Sequential()\n",
        "model.add(layers.LSTM(35, return_sequences = True, input_shape=(None,normal_cycle.shape[-1])))\n",
        "model.add(layers.LSTM(35))\n",
        "model.add(layers.Dense(pred_length))\n",
        "\n",
        "model.compile(optimizer=RMSprop(), loss=\"mse\")\n",
        "history = model.fit_generator(train_gen,\n",
        "                              steps_per_epoch=200,\n",
        "                              epochs=60,\n",
        "                              validation_data=val_gen,\n",
        "                              validation_steps=val_steps)"
      ],
      "execution_count": null,
      "outputs": []
    },
    {
      "cell_type": "code",
      "metadata": {
        "id": "-Z5b7HTTw0hd",
        "colab_type": "code",
        "colab": {
          "base_uri": "https://localhost:8080/",
          "height": 354
        },
        "outputId": "eca0893f-4c7f-44b8-8731-da711c0abdbb"
      },
      "source": [
        "loss = history.history[\"loss\"]\n",
        "val_loss = history.history[\"val_loss\"]\n",
        "\n",
        "epochs = range(len(loss))\n",
        "\n",
        "plt.figure(figsize=(10,5))\n",
        "\n",
        "plt.plot(epochs, loss, \"b\", label=\"Training loss\")\n",
        "plt.plot(epochs, val_loss, \"r\", label=\"Validatioin loss\")\n",
        "plt.xlabel(\"epoch\")\n",
        "plt.ylabel(\"loss\")\n",
        "plt.title(\"Training and validation loss\")\n",
        "plt.legend(fontsize=20)\n",
        "\n",
        "plt.show()"
      ],
      "execution_count": null,
      "outputs": []
    },
    {
      "cell_type": "code",
      "metadata": {
        "id": "ndPZF18Jw3r9",
        "colab_type": "code",
        "colab": {
          "base_uri": "https://localhost:8080/",
          "height": 88
        },
        "outputId": "fbb9e981-f476-49e4-ea0b-7f5051587129"
      },
      "source": [
        "test_gen_pred = generator(normal_cycle, \n",
        "                    lookback=lookback,\n",
        "                    pred_length=pred_length,\n",
        "                    delay=delay,\n",
        "                    min_index=30001,\n",
        "                    max_index=None,\n",
        "                    step=step,\n",
        "                    batch_size=batch_size)\n",
        "\n",
        "test_steps = (len(normal_cycle) - 30001 - lookback) // batch_size\n",
        "\n",
        "test_pred = model.predict_generator(test_gen_pred, steps=test_steps)"
      ],
      "execution_count": null,
      "outputs": []
    },
    {
      "cell_type": "code",
      "metadata": {
        "id": "wHATrKXLxmc8",
        "colab_type": "code",
        "colab": {}
      },
      "source": [
        "test_gen_target = generator(normal_cycle, \n",
        "                    lookback=lookback,\n",
        "                    pred_length=pred_length,\n",
        "                    delay=delay,\n",
        "                    min_index=30001,\n",
        "                    max_index=None,\n",
        "                    step=step,\n",
        "                    batch_size=batch_size)\n",
        "\n",
        "test_target = np.zeros((test_steps * batch_size , pred_length))\n",
        "\n",
        "for i in range(test_steps):\n",
        "    test_target[i*batch_size:(i+1)*batch_size] = next(test_gen_target)[1]"
      ],
      "execution_count": null,
      "outputs": []
    },
    {
      "cell_type": "code",
      "metadata": {
        "id": "TwW_oFx3xreT",
        "colab_type": "code",
        "colab": {
          "base_uri": "https://localhost:8080/",
          "height": 34
        },
        "outputId": "7bd2c727-bb3b-49ca-d27b-518aa6d27ea5"
      },
      "source": [
        "from sklearn.metrics import mean_squared_error\n",
        "\n",
        "print(mean_squared_error(test_pred, test_target))"
      ],
      "execution_count": null,
      "outputs": []
    },
    {
      "cell_type": "code",
      "metadata": {
        "id": "iXplbPaLxt12",
        "colab_type": "code",
        "colab": {
          "base_uri": "https://localhost:8080/",
          "height": 309
        },
        "outputId": "34ae1645-dbe3-4fc8-8115-7884dfa11a54"
      },
      "source": [
        "plt.figure(figsize=(15,5))\n",
        "\n",
        "\n",
        "plt.plot(range(len(test_pred[0:2000,0])), test_pred[0:2000,0], \"r\", label=\"Prediction\")\n",
        "plt.plot(range(len(test_target[0:2000,0])), test_target[0:2000,0], \"b\", label=\"Target\")\n",
        "plt.xlabel(\"time\")\n",
        "plt.ylabel('ECG\\'s value')\n",
        "plt.legend(fontsize=10)\n",
        "\n",
        "plt.show()"
      ],
      "execution_count": null,
      "outputs": []
    },
    {
      "cell_type": "code",
      "metadata": {
        "id": "6D6tLT5Yxu_E",
        "colab_type": "code",
        "colab": {
          "base_uri": "https://localhost:8080/",
          "height": 309
        },
        "outputId": "c7a4bf1e-76cf-424a-8ce9-483d692e1c19"
      },
      "source": [
        "plt.figure(figsize=(15,5))\n",
        "\n",
        "plt.plot(range(len(test_pred[:,0])), test_pred[:,0], \"r\", label=\"Prediction\")\n",
        "plt.plot(range(len(test_target[:,0])), test_target[:,0], \"b\", label=\"Target\")\n",
        "plt.xlabel(\"time\")\n",
        "plt.ylabel('ECG\\'s value')\n",
        "plt.legend(fontsize=10)\n",
        "\n",
        "plt.show()"
      ],
      "execution_count": null,
      "outputs": []
    },
    {
      "cell_type": "code",
      "metadata": {
        "id": "kxpMw6JRxxNy",
        "colab_type": "code",
        "colab": {
          "base_uri": "https://localhost:8080/",
          "height": 85
        },
        "outputId": "7ac3398c-4c11-4b73-c024-d10076f10f99"
      },
      "source": [
        "error =  test_pred - test_target\n",
        "mean = np.mean(error, axis=0)\n",
        "print(mean)\n",
        "cov = np.cov(error, rowvar=False, bias=True)\n",
        "print(cov)"
      ],
      "execution_count": null,
      "outputs": []
    },
    {
      "cell_type": "code",
      "metadata": {
        "id": "bxQIzLSayF0L",
        "colab_type": "code",
        "colab": {}
      },
      "source": [
        "def Mahalanobis_dist(x, mean, cov):\n",
        "    d = np.dot(x-mean, np.linalg.inv(cov))\n",
        "    d = np.dot(d, (x-mean).T)\n",
        "    return d"
      ],
      "execution_count": null,
      "outputs": []
    },
    {
      "cell_type": "code",
      "metadata": {
        "id": "gKVZ09F9yHbJ",
        "colab_type": "code",
        "colab": {}
      },
      "source": [
        "detection_gen_pred = generator(std_ecg, \n",
        "                   lookback=lookback,\n",
        "                   pred_length=pred_length,\n",
        "                   delay=delay,\n",
        "                   min_index=0,\n",
        "                   max_index=5000,\n",
        "                   step=step,\n",
        "                   batch_size=batch_size)\n",
        "\n",
        "detection_steps = (5000 -lookback) // batch_size\n",
        "\n",
        "detection_pred = model.predict_generator(detection_gen_pred, steps=detection_steps)"
      ],
      "execution_count": null,
      "outputs": []
    },
    {
      "cell_type": "code",
      "metadata": {
        "id": "eFnsaJIlyL_I",
        "colab_type": "code",
        "colab": {}
      },
      "source": [
        "detection_gen_target = generator(std_ecg, \n",
        "                   lookback=lookback,\n",
        "                   pred_length=pred_length,\n",
        "                   delay=delay,\n",
        "                   min_index=0,\n",
        "                   max_index=5000,\n",
        "                   step=step,\n",
        "                   batch_size=batch_size)\n",
        "\n",
        "detection_target = np.zeros((detection_steps * batch_size , pred_length))\n",
        "\n",
        "for i in range(detection_steps):\n",
        "    detection_target[i*batch_size:(i+1)*batch_size] = next(detection_gen_target)[1]"
      ],
      "execution_count": null,
      "outputs": []
    },
    {
      "cell_type": "code",
      "metadata": {
        "id": "rzmsHqeHyNaY",
        "colab_type": "code",
        "colab": {}
      },
      "source": [
        "error_detection = detection_pred - detection_target \n",
        "\n",
        "m_dist = []\n",
        "\n",
        "for e in error_detection:\n",
        "    m_dist.append(Mahalanobis_dist(e, mean, cov))"
      ],
      "execution_count": null,
      "outputs": []
    },
    {
      "cell_type": "code",
      "metadata": {
        "id": "T_vS5bVDyO6-",
        "colab_type": "code",
        "colab": {
          "base_uri": "https://localhost:8080/",
          "height": 554
        },
        "outputId": "7b698499-aa6a-43e8-ba48-1b1816dd0077"
      },
      "source": [
        "fig, axes = plt.subplots(nrows=2, figsize=(15,10))\n",
        "\n",
        "axes[0].plot(std_ecg[:5000],color='b',label='original data')\n",
        "axes[0].set_xlabel('time')\n",
        "axes[0].set_ylabel('ECG\\'s value' )\n",
        "axes[0].set_xlim(-250, 5250)\n",
        "axes[0].set_ylim(-3, 3)\n",
        "x = np.arange(4200,4400)\n",
        "y1 = [-3]*len(x)\n",
        "y2 = [3]*len(x)\n",
        "axes[0].fill_between(x, y1, y2, facecolor='g', alpha=.3)\n",
        "\n",
        "axes[1].plot(m_dist, color='r',label='Mahalanobis Distance')\n",
        "axes[1].set_xlabel('time')\n",
        "axes[1].set_ylabel('Mahalanobis Distance')\n",
        "axes[1].set_xlim(-250, 5250)\n",
        "axes[1].set_ylim(0, 1000)\n",
        "y1 = [0]*len(x)\n",
        "y2 = [1000]*len(x)\n",
        "axes[1].fill_between(x, y1, y2, facecolor='g', alpha=.3)\n",
        "\n",
        "plt.legend(fontsize=15)\n",
        "plt.show()"
      ],
      "execution_count": null,
      "outputs": []
    },
    {
      "cell_type": "code",
      "metadata": {
        "id": "QN-pN0XjyQWj",
        "colab_type": "code",
        "colab": {
          "base_uri": "https://localhost:8080/",
          "height": 296
        },
        "outputId": "03f2690f-7b05-4900-fe4f-68e8f3cb64c0"
      },
      "source": [
        "from scipy import stats\n",
        "x = np.linspace(0, 50, 2000)\n",
        "\n",
        "plt.figure(figsize=(15,5))\n",
        "\n",
        "plt.style.use('ggplot')\n",
        "\n",
        "plt.plot(x, stats.chi2.pdf(x, 3), \"b\", label=\"chi2, 3\")\n",
        "plt.legend(fontsize=15)\n",
        "\n",
        "plt.show()"
      ],
      "execution_count": null,
      "outputs": []
    },
    {
      "cell_type": "code",
      "metadata": {
        "id": "nkNBd9DSyTFw",
        "colab_type": "code",
        "colab": {
          "base_uri": "https://localhost:8080/",
          "height": 34
        },
        "outputId": "cef4aa96-8c74-4a95-e911-dd5380bb9f41",
        "tags": []
      },
      "source": [
        "a_99 = stats.chi2.ppf(0.99, 3)\n",
        "print(a_99)"
      ],
      "execution_count": null,
      "outputs": []
    },
    {
      "cell_type": "code",
      "metadata": {
        "id": "CBbuzGjeyVhC",
        "colab_type": "code",
        "colab": {
          "base_uri": "https://localhost:8080/",
          "height": 311
        },
        "outputId": "b9613ff8-0919-4590-af87-187b40a4a0d1"
      },
      "source": [
        "plt.figure(figsize=(15,5))\n",
        "\n",
        "plt.style.use('ggplot')\n",
        "\n",
        "plt.plot(m_dist, color='r',label='Mahalanobis Distance')\n",
        "plt.xlabel('time')\n",
        "plt.ylabel('Mahalanobis Distance')\n",
        "plt.xlim(-250, 5250)\n",
        "plt.ylim(0, 300)\n",
        "\n",
        "plt.plot(np.linspace(-250, 5250), [a_99] * len(np.linspace(-250, 5250)), 'b')\n",
        "\n",
        "plt.legend(fontsize=15)\n",
        "\n",
        "plt.show()"
      ],
      "execution_count": null,
      "outputs": []
    },
    {
      "cell_type": "code",
      "metadata": {
        "id": "QgffgZR3yXFP",
        "colab_type": "code",
        "colab": {}
      },
      "source": [
        "m_dist_th = np.zeros(4910)\n",
        "m_dist_th[10:4910] = m_dist"
      ],
      "execution_count": null,
      "outputs": []
    },
    {
      "cell_type": "code",
      "metadata": {
        "id": "3K3Tu4ccyYwr",
        "colab_type": "code",
        "colab": {}
      },
      "source": [
        "TF_label = np.zeros(4910)\n",
        "TF_label[4200:4400] = 1"
      ],
      "execution_count": null,
      "outputs": []
    },
    {
      "cell_type": "code",
      "metadata": {
        "id": "qoRrdJqGyZ1v",
        "colab_type": "code",
        "colab": {}
      },
      "source": [
        "def f_score(th, TF_label, m_dist_th, beta):\n",
        "    TF_pred = np.where(m_dist_th > th, 1, 0)\n",
        "    TF_pred = 2 * TF_pred\n",
        "\n",
        "    PN = TF_label + TF_pred\n",
        "\n",
        "    TN = np.count_nonzero(PN == 0)\n",
        "    FN = np.count_nonzero(PN == 1)\n",
        "    FP = np.count_nonzero(PN == 2)\n",
        "    TP = np.count_nonzero(PN == 3)\n",
        "\n",
        "    precision = TP/(TP + FP)\n",
        "    recall = TP/(TP+FN)\n",
        "\n",
        "    return (1+beta**2)*precision*recall/(beta**2*precision + recall)"
      ],
      "execution_count": null,
      "outputs": []
    },
    {
      "cell_type": "code",
      "metadata": {
        "id": "w0GBnYSiybF6",
        "colab_type": "code",
        "colab": {
          "base_uri": "https://localhost:8080/",
          "height": 298
        },
        "outputId": "39b5eac3-b57c-49fd-b631-fb7e52fed066"
      },
      "source": [
        "th_line = np.linspace(0, 1000, 5000)\n",
        "\n",
        "dx = 0.2 \n",
        "\n",
        "f_score_graph = []\n",
        "\n",
        "for i in range(5000):\n",
        "    f_score_graph.append(f_score(dx * i, TF_label, m_dist_th, 0.1))\n",
        "\n",
        "plt.figure(figsize=(15,5))\n",
        "plt.style.use('ggplot')\n",
        "plt.plot(th_line, f_score_graph, color='g', label = \"f_score\")\n",
        "plt.legend(fontsize=15)\n",
        "plt.show()"
      ],
      "execution_count": null,
      "outputs": []
    },
    {
      "cell_type": "code",
      "metadata": {
        "id": "CCgCmosDycLZ",
        "colab_type": "code",
        "colab": {
          "base_uri": "https://localhost:8080/",
          "height": 102
        },
        "outputId": "78399f98-b422-4c26-fc1f-35dd5ca1f0bd"
      },
      "source": [
        "from scipy import optimize\n",
        "\n",
        "def minus_f_score(th, TF_label, m_dist_th, beta):\n",
        "    return -f_score(th, TF_label, m_dist_th, beta)\n",
        "\n",
        "ave_m_dist_th = np.average(m_dist_th)\n",
        "\n",
        "opt_th = optimize.fmin_powell(minus_f_score, ave_m_dist_th, (TF_label, m_dist_th, 0.1))\n",
        "print(opt_th)"
      ],
      "execution_count": null,
      "outputs": []
    },
    {
      "cell_type": "code",
      "metadata": {
        "id": "bzlGUwbOydxZ",
        "colab_type": "code",
        "colab": {
          "base_uri": "https://localhost:8080/",
          "height": 309
        },
        "outputId": "8398d398-f068-4335-e987-fb97c88cd6d0"
      },
      "source": [
        "plt.figure(figsize=(15,5))\n",
        "\n",
        "plt.style.use('ggplot')\n",
        "\n",
        "plt.plot(m_dist_th, color='r',label='Mahalanobis Distance')\n",
        "plt.xlabel('time')\n",
        "plt.ylabel('Mahalanobis Distance')\n",
        "plt.xlim(-250, 5250)\n",
        "plt.ylim(0, 1000)\n",
        "\n",
        "plt.plot(np.linspace(-250, 5250), [opt_th] * len(np.linspace(-250, 5250)), 'b')\n",
        "\n",
        "plt.legend(fontsize=15)\n",
        "\n",
        "plt.show()"
      ],
      "execution_count": null,
      "outputs": []
    },
    {
      "cell_type": "code",
      "metadata": {
        "id": "jsawpu8ryfBR",
        "colab_type": "code",
        "colab": {}
      },
      "source": [
        ""
      ],
      "execution_count": null,
      "outputs": []
    }
  ]
}